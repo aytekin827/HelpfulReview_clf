{
 "cells": [
  {
   "cell_type": "code",
   "execution_count": 2,
   "metadata": {},
   "outputs": [
    {
     "name": "stdout",
     "output_type": "stream",
     "text": [
      "1.12.1+cu113\n",
      "True\n",
      "0\n",
      "NVIDIA GeForce GTX 1080 Ti\n"
     ]
    }
   ],
   "source": [
    "import torch\n",
    "import numpy as np\n",
    "from torch.utils.data import Dataset, DataLoader\n",
    "from transformers import AutoTokenizer, AutoModelForSequenceClassification\n",
    "import pandas as pd \n",
    "from tqdm import tqdm \n",
    "from sklearn.model_selection import train_test_split\n",
    "from glob import glob\n",
    "\n",
    "print(torch.__version__)\n",
    "print(torch.cuda.is_available())\n",
    "print(torch.cuda.current_device())\n",
    "print(torch.cuda.get_device_name(0))"
   ]
  },
  {
   "cell_type": "code",
   "execution_count": null,
   "metadata": {},
   "outputs": [],
   "source": [
    "BATCH_SIZE = 1\n",
    "MAX_LEN = 300 \n",
    "\n",
    "category_name = '스포츠의류'\n",
    "model_path = glob('model/model_{}/results/*.pt'.format(category_name))[-1]\n",
    "model_name = \"beomi/kcELECTRA-base\"\n",
    "\n",
    "model = torch.load(model_path)\n",
    "tokenizer = AutoTokenizer.from_pretrained(model_name)\n",
    "\n",
    "device ='cpu'\n",
    "model.to(device)"
   ]
  },
  {
   "attachments": {},
   "cell_type": "markdown",
   "metadata": {},
   "source": [
    "sentence 입력시 \n",
    "\n",
    "'제품명' [제품명] 리뷰 [리뷰]  \n",
    "\n",
    "이렇게 입력해주어야 더 정확도가 올라감."
   ]
  },
  {
   "cell_type": "code",
   "execution_count": null,
   "metadata": {},
   "outputs": [],
   "source": [
    "sentence = \"제품명 고스트리퍼블릭 오버핏 자수 터틀 후드집업 GHZ-254, 2, 블랙 리뷰 입었을때 마치 남친 옷 뺏어입은거 같은 룩 입니다매우 편안하고 재질도 부들부들 하니 좋네요\"\n",
    "test = pd.DataFrame({'input':[sentence]})\n",
    "test"
   ]
  },
  {
   "cell_type": "code",
   "execution_count": null,
   "metadata": {},
   "outputs": [],
   "source": [
    "class TestDataset(Dataset):\n",
    "    def __init__(self, df):\n",
    "        self.df_data = df\n",
    "    def __getitem__(self, index):\n",
    "        # get the sentence from the dataframe\n",
    "        sentence = self.df_data.loc[index, 'input']\n",
    "        encoded_dict = tokenizer(\n",
    "          text = sentence,\n",
    "          add_special_tokens = True, \n",
    "          max_length = MAX_LEN,\n",
    "          pad_to_max_length = True,\n",
    "          truncation=True,           # Pad & truncate all sentences.\n",
    "          return_tensors=\"pt\")\n",
    "\n",
    "        padded_token_list = encoded_dict['input_ids'][0]\n",
    "        token_type_id = encoded_dict['token_type_ids'][0]\n",
    "        att_mask = encoded_dict['attention_mask'][0]\n",
    "        sample = (padded_token_list, token_type_id , att_mask)\n",
    "        return sample\n",
    "    def __len__(self):\n",
    "        return len(self.df_data)\n",
    "\n",
    "test_data = TestDataset(test)\n",
    "\n",
    "test_dataloader = DataLoader(\n",
    "    test_data,\n",
    "    batch_size=BATCH_SIZE,\n",
    "    shuffle=False,\n",
    "    num_workers=0\n",
    "    )"
   ]
  },
  {
   "cell_type": "code",
   "execution_count": null,
   "metadata": {},
   "outputs": [],
   "source": [
    "# inference\n",
    "print('>> inference start <<')    \n",
    "preds = [] \n",
    "model.eval()\n",
    "torch.set_grad_enabled(False)\n",
    "for batch_id, (input_id,token_type_id,attention_mask) in enumerate(tqdm(test_dataloader)):\n",
    "    input_id = input_id.long().to(device)\n",
    "    token_type_id = token_type_id.long().to(device)\n",
    "    attention_mask = attention_mask.long().to(device)\n",
    "    outputs = model(input_ids=input_id, token_type_ids=token_type_id, attention_mask=attention_mask)\n",
    "    out = outputs[0]\n",
    "    for inp in out:\n",
    "          preds.append(inp.detach().cpu().numpy())\n",
    "Preds = np.array(preds)"
   ]
  }
 ],
 "metadata": {
  "kernelspec": {
   "display_name": "pytorch",
   "language": "python",
   "name": "pytorch"
  },
  "language_info": {
   "codemirror_mode": {
    "name": "ipython",
    "version": 3
   },
   "file_extension": ".py",
   "mimetype": "text/x-python",
   "name": "python",
   "nbconvert_exporter": "python",
   "pygments_lexer": "ipython3",
   "version": "3.7.13"
  },
  "orig_nbformat": 4
 },
 "nbformat": 4,
 "nbformat_minor": 2
}
